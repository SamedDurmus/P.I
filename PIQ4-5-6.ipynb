{
 "cells": [
  {
   "cell_type": "code",
   "execution_count": 358,
   "metadata": {},
   "outputs": [],
   "source": [
    "import pandas as pd"
   ]
  },
  {
   "cell_type": "code",
   "execution_count": 413,
   "metadata": {},
   "outputs": [],
   "source": [
    "from collections import Counter"
   ]
  },
  {
   "cell_type": "code",
   "execution_count": 359,
   "metadata": {},
   "outputs": [],
   "source": [
    "df = pd.read_csv ('country_vaccination_stats.csv')"
   ]
  },
  {
   "cell_type": "markdown",
   "metadata": {},
   "source": [
    "# Q4"
   ]
  },
  {
   "cell_type": "code",
   "execution_count": 360,
   "metadata": {},
   "outputs": [
    {
     "data": {
      "text/html": [
       "<div>\n",
       "<style scoped>\n",
       "    .dataframe tbody tr th:only-of-type {\n",
       "        vertical-align: middle;\n",
       "    }\n",
       "\n",
       "    .dataframe tbody tr th {\n",
       "        vertical-align: top;\n",
       "    }\n",
       "\n",
       "    .dataframe thead th {\n",
       "        text-align: right;\n",
       "    }\n",
       "</style>\n",
       "<table border=\"1\" class=\"dataframe\">\n",
       "  <thead>\n",
       "    <tr style=\"text-align: right;\">\n",
       "      <th></th>\n",
       "      <th>country</th>\n",
       "      <th>date</th>\n",
       "      <th>daily_vaccinations</th>\n",
       "      <th>vaccines</th>\n",
       "    </tr>\n",
       "  </thead>\n",
       "  <tbody>\n",
       "    <tr>\n",
       "      <th>0</th>\n",
       "      <td>Argentina</td>\n",
       "      <td>12/29/2020</td>\n",
       "      <td>NaN</td>\n",
       "      <td>Sputnik V</td>\n",
       "    </tr>\n",
       "    <tr>\n",
       "      <th>1</th>\n",
       "      <td>Argentina</td>\n",
       "      <td>12/30/2020</td>\n",
       "      <td>15656.0</td>\n",
       "      <td>Sputnik V</td>\n",
       "    </tr>\n",
       "    <tr>\n",
       "      <th>2</th>\n",
       "      <td>Argentina</td>\n",
       "      <td>12/31/2020</td>\n",
       "      <td>15656.0</td>\n",
       "      <td>Sputnik V</td>\n",
       "    </tr>\n",
       "    <tr>\n",
       "      <th>3</th>\n",
       "      <td>Argentina</td>\n",
       "      <td>1/1/2021</td>\n",
       "      <td>11070.0</td>\n",
       "      <td>Sputnik V</td>\n",
       "    </tr>\n",
       "    <tr>\n",
       "      <th>4</th>\n",
       "      <td>Argentina</td>\n",
       "      <td>1/2/2021</td>\n",
       "      <td>8776.0</td>\n",
       "      <td>Sputnik V</td>\n",
       "    </tr>\n",
       "    <tr>\n",
       "      <th>...</th>\n",
       "      <td>...</td>\n",
       "      <td>...</td>\n",
       "      <td>...</td>\n",
       "      <td>...</td>\n",
       "    </tr>\n",
       "    <tr>\n",
       "      <th>1497</th>\n",
       "      <td>Wales</td>\n",
       "      <td>1/20/2021</td>\n",
       "      <td>11105.0</td>\n",
       "      <td>Oxford/AstraZeneca, Pfizer/BioNTech</td>\n",
       "    </tr>\n",
       "    <tr>\n",
       "      <th>1498</th>\n",
       "      <td>Wales</td>\n",
       "      <td>1/21/2021</td>\n",
       "      <td>12318.0</td>\n",
       "      <td>Oxford/AstraZeneca, Pfizer/BioNTech</td>\n",
       "    </tr>\n",
       "    <tr>\n",
       "      <th>1499</th>\n",
       "      <td>Wales</td>\n",
       "      <td>1/22/2021</td>\n",
       "      <td>15148.0</td>\n",
       "      <td>Oxford/AstraZeneca, Pfizer/BioNTech</td>\n",
       "    </tr>\n",
       "    <tr>\n",
       "      <th>1500</th>\n",
       "      <td>Wales</td>\n",
       "      <td>1/23/2021</td>\n",
       "      <td>17371.0</td>\n",
       "      <td>Oxford/AstraZeneca, Pfizer/BioNTech</td>\n",
       "    </tr>\n",
       "    <tr>\n",
       "      <th>1501</th>\n",
       "      <td>Wales</td>\n",
       "      <td>1/24/2021</td>\n",
       "      <td>17063.0</td>\n",
       "      <td>Oxford/AstraZeneca, Pfizer/BioNTech</td>\n",
       "    </tr>\n",
       "  </tbody>\n",
       "</table>\n",
       "<p>1502 rows × 4 columns</p>\n",
       "</div>"
      ],
      "text/plain": [
       "        country        date  daily_vaccinations  \\\n",
       "0     Argentina  12/29/2020                 NaN   \n",
       "1     Argentina  12/30/2020             15656.0   \n",
       "2     Argentina  12/31/2020             15656.0   \n",
       "3     Argentina    1/1/2021             11070.0   \n",
       "4     Argentina    1/2/2021              8776.0   \n",
       "...         ...         ...                 ...   \n",
       "1497      Wales   1/20/2021             11105.0   \n",
       "1498      Wales   1/21/2021             12318.0   \n",
       "1499      Wales   1/22/2021             15148.0   \n",
       "1500      Wales   1/23/2021             17371.0   \n",
       "1501      Wales   1/24/2021             17063.0   \n",
       "\n",
       "                                 vaccines  \n",
       "0                               Sputnik V  \n",
       "1                               Sputnik V  \n",
       "2                               Sputnik V  \n",
       "3                               Sputnik V  \n",
       "4                               Sputnik V  \n",
       "...                                   ...  \n",
       "1497  Oxford/AstraZeneca, Pfizer/BioNTech  \n",
       "1498  Oxford/AstraZeneca, Pfizer/BioNTech  \n",
       "1499  Oxford/AstraZeneca, Pfizer/BioNTech  \n",
       "1500  Oxford/AstraZeneca, Pfizer/BioNTech  \n",
       "1501  Oxford/AstraZeneca, Pfizer/BioNTech  \n",
       "\n",
       "[1502 rows x 4 columns]"
      ]
     },
     "execution_count": 360,
     "metadata": {},
     "output_type": "execute_result"
    }
   ],
   "source": [
    "df"
   ]
  },
  {
   "cell_type": "code",
   "execution_count": 361,
   "metadata": {},
   "outputs": [
    {
     "data": {
      "text/html": [
       "<div>\n",
       "<style scoped>\n",
       "    .dataframe tbody tr th:only-of-type {\n",
       "        vertical-align: middle;\n",
       "    }\n",
       "\n",
       "    .dataframe tbody tr th {\n",
       "        vertical-align: top;\n",
       "    }\n",
       "\n",
       "    .dataframe thead th {\n",
       "        text-align: right;\n",
       "    }\n",
       "</style>\n",
       "<table border=\"1\" class=\"dataframe\">\n",
       "  <thead>\n",
       "    <tr style=\"text-align: right;\">\n",
       "      <th></th>\n",
       "      <th>country</th>\n",
       "      <th>date</th>\n",
       "      <th>daily_vaccinations</th>\n",
       "      <th>vaccines</th>\n",
       "    </tr>\n",
       "  </thead>\n",
       "  <tbody>\n",
       "    <tr>\n",
       "      <th>0</th>\n",
       "      <td>Argentina</td>\n",
       "      <td>12/29/2020</td>\n",
       "      <td>NaN</td>\n",
       "      <td>Sputnik V</td>\n",
       "    </tr>\n",
       "    <tr>\n",
       "      <th>1</th>\n",
       "      <td>Argentina</td>\n",
       "      <td>12/30/2020</td>\n",
       "      <td>15656.0</td>\n",
       "      <td>Sputnik V</td>\n",
       "    </tr>\n",
       "    <tr>\n",
       "      <th>2</th>\n",
       "      <td>Argentina</td>\n",
       "      <td>12/31/2020</td>\n",
       "      <td>15656.0</td>\n",
       "      <td>Sputnik V</td>\n",
       "    </tr>\n",
       "    <tr>\n",
       "      <th>3</th>\n",
       "      <td>Argentina</td>\n",
       "      <td>1/1/2021</td>\n",
       "      <td>11070.0</td>\n",
       "      <td>Sputnik V</td>\n",
       "    </tr>\n",
       "    <tr>\n",
       "      <th>4</th>\n",
       "      <td>Argentina</td>\n",
       "      <td>1/2/2021</td>\n",
       "      <td>8776.0</td>\n",
       "      <td>Sputnik V</td>\n",
       "    </tr>\n",
       "  </tbody>\n",
       "</table>\n",
       "</div>"
      ],
      "text/plain": [
       "     country        date  daily_vaccinations   vaccines\n",
       "0  Argentina  12/29/2020                 NaN  Sputnik V\n",
       "1  Argentina  12/30/2020             15656.0  Sputnik V\n",
       "2  Argentina  12/31/2020             15656.0  Sputnik V\n",
       "3  Argentina    1/1/2021             11070.0  Sputnik V\n",
       "4  Argentina    1/2/2021              8776.0  Sputnik V"
      ]
     },
     "execution_count": 361,
     "metadata": {},
     "output_type": "execute_result"
    }
   ],
   "source": [
    "df.head()"
   ]
  },
  {
   "cell_type": "code",
   "execution_count": 362,
   "metadata": {},
   "outputs": [
    {
     "data": {
      "text/plain": [
       "RangeIndex(start=0, stop=1502, step=1)"
      ]
     },
     "execution_count": 362,
     "metadata": {},
     "output_type": "execute_result"
    }
   ],
   "source": [
    "df.index"
   ]
  },
  {
   "cell_type": "code",
   "execution_count": 363,
   "metadata": {},
   "outputs": [
    {
     "data": {
      "text/html": [
       "<div>\n",
       "<style scoped>\n",
       "    .dataframe tbody tr th:only-of-type {\n",
       "        vertical-align: middle;\n",
       "    }\n",
       "\n",
       "    .dataframe tbody tr th {\n",
       "        vertical-align: top;\n",
       "    }\n",
       "\n",
       "    .dataframe thead th {\n",
       "        text-align: right;\n",
       "    }\n",
       "</style>\n",
       "<table border=\"1\" class=\"dataframe\">\n",
       "  <thead>\n",
       "    <tr style=\"text-align: right;\">\n",
       "      <th></th>\n",
       "      <th>country</th>\n",
       "      <th>date</th>\n",
       "      <th>daily_vaccinations</th>\n",
       "      <th>vaccines</th>\n",
       "    </tr>\n",
       "  </thead>\n",
       "  <tbody>\n",
       "    <tr>\n",
       "      <th>0</th>\n",
       "      <td>False</td>\n",
       "      <td>False</td>\n",
       "      <td>True</td>\n",
       "      <td>False</td>\n",
       "    </tr>\n",
       "    <tr>\n",
       "      <th>1</th>\n",
       "      <td>False</td>\n",
       "      <td>False</td>\n",
       "      <td>False</td>\n",
       "      <td>False</td>\n",
       "    </tr>\n",
       "    <tr>\n",
       "      <th>2</th>\n",
       "      <td>False</td>\n",
       "      <td>False</td>\n",
       "      <td>False</td>\n",
       "      <td>False</td>\n",
       "    </tr>\n",
       "    <tr>\n",
       "      <th>3</th>\n",
       "      <td>False</td>\n",
       "      <td>False</td>\n",
       "      <td>False</td>\n",
       "      <td>False</td>\n",
       "    </tr>\n",
       "    <tr>\n",
       "      <th>4</th>\n",
       "      <td>False</td>\n",
       "      <td>False</td>\n",
       "      <td>False</td>\n",
       "      <td>False</td>\n",
       "    </tr>\n",
       "    <tr>\n",
       "      <th>...</th>\n",
       "      <td>...</td>\n",
       "      <td>...</td>\n",
       "      <td>...</td>\n",
       "      <td>...</td>\n",
       "    </tr>\n",
       "    <tr>\n",
       "      <th>1497</th>\n",
       "      <td>False</td>\n",
       "      <td>False</td>\n",
       "      <td>False</td>\n",
       "      <td>False</td>\n",
       "    </tr>\n",
       "    <tr>\n",
       "      <th>1498</th>\n",
       "      <td>False</td>\n",
       "      <td>False</td>\n",
       "      <td>False</td>\n",
       "      <td>False</td>\n",
       "    </tr>\n",
       "    <tr>\n",
       "      <th>1499</th>\n",
       "      <td>False</td>\n",
       "      <td>False</td>\n",
       "      <td>False</td>\n",
       "      <td>False</td>\n",
       "    </tr>\n",
       "    <tr>\n",
       "      <th>1500</th>\n",
       "      <td>False</td>\n",
       "      <td>False</td>\n",
       "      <td>False</td>\n",
       "      <td>False</td>\n",
       "    </tr>\n",
       "    <tr>\n",
       "      <th>1501</th>\n",
       "      <td>False</td>\n",
       "      <td>False</td>\n",
       "      <td>False</td>\n",
       "      <td>False</td>\n",
       "    </tr>\n",
       "  </tbody>\n",
       "</table>\n",
       "<p>1502 rows × 4 columns</p>\n",
       "</div>"
      ],
      "text/plain": [
       "      country   date  daily_vaccinations  vaccines\n",
       "0       False  False                True     False\n",
       "1       False  False               False     False\n",
       "2       False  False               False     False\n",
       "3       False  False               False     False\n",
       "4       False  False               False     False\n",
       "...       ...    ...                 ...       ...\n",
       "1497    False  False               False     False\n",
       "1498    False  False               False     False\n",
       "1499    False  False               False     False\n",
       "1500    False  False               False     False\n",
       "1501    False  False               False     False\n",
       "\n",
       "[1502 rows x 4 columns]"
      ]
     },
     "execution_count": 363,
     "metadata": {},
     "output_type": "execute_result"
    }
   ],
   "source": [
    "pd.isnull(df)"
   ]
  },
  {
   "cell_type": "code",
   "execution_count": 364,
   "metadata": {},
   "outputs": [
    {
     "data": {
      "text/plain": [
       "Canada                  43\n",
       "Wales                   43\n",
       "Scotland                43\n",
       "Northern Ireland        43\n",
       "Israel                  38\n",
       "United States           37\n",
       "China                   37\n",
       "United Kingdom          36\n",
       "England                 36\n",
       "Mexico                  33\n",
       "Chile                   33\n",
       "Lithuania               32\n",
       "Czechia                 30\n",
       "Italy                   30\n",
       "Russia                  30\n",
       "Denmark                 30\n",
       "Switzerland             30\n",
       "Norway                  29\n",
       "Portugal                29\n",
       "Romania                 29\n",
       "Bahrain                 29\n",
       "Latvia                  29\n",
       "Germany                 29\n",
       "Greece                  29\n",
       "Estonia                 29\n",
       "Poland                  28\n",
       "Argentina               28\n",
       "Hungary                 28\n",
       "Oman                    28\n",
       "Malta                   28\n",
       "Bulgaria                28\n",
       "Iceland                 27\n",
       "Croatia                 27\n",
       "Finland                 26\n",
       "Costa Rica              26\n",
       "Belgium                 26\n",
       "Luxembourg              26\n",
       "Ireland                 25\n",
       "Spain                   22\n",
       "Sweden                  22\n",
       "France                  22\n",
       "Slovenia                22\n",
       "United Arab Emirates    21\n",
       "Austria                 20\n",
       "Slovakia                18\n",
       "Serbia                  18\n",
       "Cyprus                  17\n",
       "Netherlands             17\n",
       "Gibraltar               15\n",
       "Seychelles              15\n",
       "Indonesia               14\n",
       "Turkey                  13\n",
       "Saudi Arabia            12\n",
       "Singapore               12\n",
       "India                   11\n",
       "Brazil                  10\n",
       "Panama                   6\n",
       "Isle of Man              5\n",
       "Ecuador                  2\n",
       "Kuwait                   1\n",
       "Name: country, dtype: int64"
      ]
     },
     "execution_count": 364,
     "metadata": {},
     "output_type": "execute_result"
    }
   ],
   "source": [
    "df[\"country\"].value_counts()"
   ]
  },
  {
   "cell_type": "code",
   "execution_count": 365,
   "metadata": {},
   "outputs": [
    {
     "data": {
      "text/plain": [
       "60"
      ]
     },
     "execution_count": 365,
     "metadata": {},
     "output_type": "execute_result"
    }
   ],
   "source": [
    "len(df[\"country\"].unique()) # we have 60 countries."
   ]
  },
  {
   "cell_type": "code",
   "execution_count": 366,
   "metadata": {},
   "outputs": [
    {
     "data": {
      "text/plain": [
       "NaN         60\n",
       "3000.0      22\n",
       "63.0        21\n",
       "187500.0    16\n",
       "62.0        12\n",
       "            ..\n",
       "4912.0       1\n",
       "66980.0      1\n",
       "3361.0       1\n",
       "31828.0      1\n",
       "35134.0      1\n",
       "Name: daily_vaccinations, Length: 1225, dtype: int64"
      ]
     },
     "execution_count": 366,
     "metadata": {},
     "output_type": "execute_result"
    }
   ],
   "source": [
    "df[\"daily_vaccinations\"].value_counts(dropna=False)\n",
    "#We have 60 NaN values. I should fill them per country with the minimum daily vaccination number of relevant countries.\n",
    "#(60 countries and 60 NaN values... Probably every country has 1 missing values.Then if there is a country which has 1 NaN value it will be a problem.)\n",
    "# i should fill that with 0. (\"Kuwait might be a problem but i will check every country later.\")"
   ]
  },
  {
   "cell_type": "code",
   "execution_count": 367,
   "metadata": {},
   "outputs": [],
   "source": [
    "country_list = df[\"country\"].unique().tolist()"
   ]
  },
  {
   "cell_type": "code",
   "execution_count": 368,
   "metadata": {},
   "outputs": [
    {
     "data": {
      "text/plain": [
       "['Argentina',\n",
       " 'Austria',\n",
       " 'Bahrain',\n",
       " 'Belgium',\n",
       " 'Brazil',\n",
       " 'Bulgaria',\n",
       " 'Canada',\n",
       " 'Chile',\n",
       " 'China',\n",
       " 'Costa Rica',\n",
       " 'Croatia',\n",
       " 'Cyprus',\n",
       " 'Czechia',\n",
       " 'Denmark',\n",
       " 'Ecuador',\n",
       " 'England',\n",
       " 'Estonia',\n",
       " 'Finland',\n",
       " 'France',\n",
       " 'Germany',\n",
       " 'Gibraltar',\n",
       " 'Greece',\n",
       " 'Hungary',\n",
       " 'Iceland',\n",
       " 'India',\n",
       " 'Indonesia',\n",
       " 'Ireland',\n",
       " 'Isle of Man',\n",
       " 'Israel',\n",
       " 'Italy',\n",
       " 'Kuwait',\n",
       " 'Latvia',\n",
       " 'Lithuania',\n",
       " 'Luxembourg',\n",
       " 'Malta',\n",
       " 'Mexico',\n",
       " 'Netherlands',\n",
       " 'Northern Ireland',\n",
       " 'Norway',\n",
       " 'Oman',\n",
       " 'Panama',\n",
       " 'Poland',\n",
       " 'Portugal',\n",
       " 'Romania',\n",
       " 'Russia',\n",
       " 'Saudi Arabia',\n",
       " 'Scotland',\n",
       " 'Serbia',\n",
       " 'Seychelles',\n",
       " 'Singapore',\n",
       " 'Slovakia',\n",
       " 'Slovenia',\n",
       " 'Spain',\n",
       " 'Sweden',\n",
       " 'Switzerland',\n",
       " 'Turkey',\n",
       " 'United Arab Emirates',\n",
       " 'United Kingdom',\n",
       " 'United States',\n",
       " 'Wales']"
      ]
     },
     "execution_count": 368,
     "metadata": {},
     "output_type": "execute_result"
    }
   ],
   "source": [
    "country_list"
   ]
  },
  {
   "cell_type": "code",
   "execution_count": 369,
   "metadata": {},
   "outputs": [
    {
     "data": {
      "text/plain": [
       "60"
      ]
     },
     "execution_count": 369,
     "metadata": {},
     "output_type": "execute_result"
    }
   ],
   "source": [
    "len(country_list) #  number of countries matched"
   ]
  },
  {
   "cell_type": "code",
   "execution_count": 370,
   "metadata": {},
   "outputs": [],
   "source": [
    "df_filled=df.copy() # I created a new dataframe from the original one to fill the missing values."
   ]
  },
  {
   "cell_type": "code",
   "execution_count": 371,
   "metadata": {},
   "outputs": [],
   "source": [
    "# i need to check if a country does not have any valid vaccination number yet."
   ]
  },
  {
   "cell_type": "code",
   "execution_count": 372,
   "metadata": {},
   "outputs": [],
   "source": [
    "def haveAnyValid(country_list):\n",
    "\n",
    "    countries=[]\n",
    "    for country in country_list:\n",
    "        df_every_country=df[df[\"country\"]==country]\n",
    "        if (df_every_country[\"country\"].value_counts()==df_every_country[\"daily_vaccinations\"].isna().sum()).bool():\n",
    "            countries.append(country)\n",
    "\n",
    "        else:\n",
    "            pass\n",
    "\n",
    "    print(\"This countries don't have any valid vaccination numbers yet.. :\\n\")\n",
    "    print(*countries, sep='\\n')        "
   ]
  },
  {
   "cell_type": "code",
   "execution_count": 373,
   "metadata": {},
   "outputs": [
    {
     "name": "stdout",
     "output_type": "stream",
     "text": [
      "This countries don't have any valid vaccination numbers yet.. :\n",
      "\n",
      "Kuwait\n"
     ]
    }
   ],
   "source": [
    "haveAnyValid(country_list)\n",
    "# As I thought before, only Kuwait is going to be a problem. I will consider this."
   ]
  },
  {
   "cell_type": "code",
   "execution_count": 374,
   "metadata": {},
   "outputs": [
    {
     "data": {
      "text/html": [
       "<div>\n",
       "<style scoped>\n",
       "    .dataframe tbody tr th:only-of-type {\n",
       "        vertical-align: middle;\n",
       "    }\n",
       "\n",
       "    .dataframe tbody tr th {\n",
       "        vertical-align: top;\n",
       "    }\n",
       "\n",
       "    .dataframe thead th {\n",
       "        text-align: right;\n",
       "    }\n",
       "</style>\n",
       "<table border=\"1\" class=\"dataframe\">\n",
       "  <thead>\n",
       "    <tr style=\"text-align: right;\">\n",
       "      <th></th>\n",
       "      <th>country</th>\n",
       "      <th>date</th>\n",
       "      <th>daily_vaccinations</th>\n",
       "      <th>vaccines</th>\n",
       "    </tr>\n",
       "  </thead>\n",
       "  <tbody>\n",
       "    <tr>\n",
       "      <th>0</th>\n",
       "      <td>Argentina</td>\n",
       "      <td>12/29/2020</td>\n",
       "      <td>NaN</td>\n",
       "      <td>Sputnik V</td>\n",
       "    </tr>\n",
       "    <tr>\n",
       "      <th>1</th>\n",
       "      <td>Argentina</td>\n",
       "      <td>12/30/2020</td>\n",
       "      <td>15656.0</td>\n",
       "      <td>Sputnik V</td>\n",
       "    </tr>\n",
       "    <tr>\n",
       "      <th>2</th>\n",
       "      <td>Argentina</td>\n",
       "      <td>12/31/2020</td>\n",
       "      <td>15656.0</td>\n",
       "      <td>Sputnik V</td>\n",
       "    </tr>\n",
       "    <tr>\n",
       "      <th>3</th>\n",
       "      <td>Argentina</td>\n",
       "      <td>1/1/2021</td>\n",
       "      <td>11070.0</td>\n",
       "      <td>Sputnik V</td>\n",
       "    </tr>\n",
       "    <tr>\n",
       "      <th>4</th>\n",
       "      <td>Argentina</td>\n",
       "      <td>1/2/2021</td>\n",
       "      <td>8776.0</td>\n",
       "      <td>Sputnik V</td>\n",
       "    </tr>\n",
       "    <tr>\n",
       "      <th>...</th>\n",
       "      <td>...</td>\n",
       "      <td>...</td>\n",
       "      <td>...</td>\n",
       "      <td>...</td>\n",
       "    </tr>\n",
       "    <tr>\n",
       "      <th>1497</th>\n",
       "      <td>Wales</td>\n",
       "      <td>1/20/2021</td>\n",
       "      <td>11105.0</td>\n",
       "      <td>Oxford/AstraZeneca, Pfizer/BioNTech</td>\n",
       "    </tr>\n",
       "    <tr>\n",
       "      <th>1498</th>\n",
       "      <td>Wales</td>\n",
       "      <td>1/21/2021</td>\n",
       "      <td>12318.0</td>\n",
       "      <td>Oxford/AstraZeneca, Pfizer/BioNTech</td>\n",
       "    </tr>\n",
       "    <tr>\n",
       "      <th>1499</th>\n",
       "      <td>Wales</td>\n",
       "      <td>1/22/2021</td>\n",
       "      <td>15148.0</td>\n",
       "      <td>Oxford/AstraZeneca, Pfizer/BioNTech</td>\n",
       "    </tr>\n",
       "    <tr>\n",
       "      <th>1500</th>\n",
       "      <td>Wales</td>\n",
       "      <td>1/23/2021</td>\n",
       "      <td>17371.0</td>\n",
       "      <td>Oxford/AstraZeneca, Pfizer/BioNTech</td>\n",
       "    </tr>\n",
       "    <tr>\n",
       "      <th>1501</th>\n",
       "      <td>Wales</td>\n",
       "      <td>1/24/2021</td>\n",
       "      <td>17063.0</td>\n",
       "      <td>Oxford/AstraZeneca, Pfizer/BioNTech</td>\n",
       "    </tr>\n",
       "  </tbody>\n",
       "</table>\n",
       "<p>1502 rows × 4 columns</p>\n",
       "</div>"
      ],
      "text/plain": [
       "        country        date  daily_vaccinations  \\\n",
       "0     Argentina  12/29/2020                 NaN   \n",
       "1     Argentina  12/30/2020             15656.0   \n",
       "2     Argentina  12/31/2020             15656.0   \n",
       "3     Argentina    1/1/2021             11070.0   \n",
       "4     Argentina    1/2/2021              8776.0   \n",
       "...         ...         ...                 ...   \n",
       "1497      Wales   1/20/2021             11105.0   \n",
       "1498      Wales   1/21/2021             12318.0   \n",
       "1499      Wales   1/22/2021             15148.0   \n",
       "1500      Wales   1/23/2021             17371.0   \n",
       "1501      Wales   1/24/2021             17063.0   \n",
       "\n",
       "                                 vaccines  \n",
       "0                               Sputnik V  \n",
       "1                               Sputnik V  \n",
       "2                               Sputnik V  \n",
       "3                               Sputnik V  \n",
       "4                               Sputnik V  \n",
       "...                                   ...  \n",
       "1497  Oxford/AstraZeneca, Pfizer/BioNTech  \n",
       "1498  Oxford/AstraZeneca, Pfizer/BioNTech  \n",
       "1499  Oxford/AstraZeneca, Pfizer/BioNTech  \n",
       "1500  Oxford/AstraZeneca, Pfizer/BioNTech  \n",
       "1501  Oxford/AstraZeneca, Pfizer/BioNTech  \n",
       "\n",
       "[1502 rows x 4 columns]"
      ]
     },
     "execution_count": 374,
     "metadata": {},
     "output_type": "execute_result"
    }
   ],
   "source": [
    "df_filled"
   ]
  },
  {
   "cell_type": "code",
   "execution_count": 375,
   "metadata": {},
   "outputs": [],
   "source": [
    "# my function\n",
    "\n",
    "def fillWithMin(country_list):\n",
    "    for country in country_list:\n",
    "        df_per_country=df[df[\"country\"]==country]\n",
    "        if (df_per_country[\"country\"].value_counts()==df_per_country[\"daily_vaccinations\"].isna().sum()).bool():\n",
    "            df_updated=df_per_country.fillna(0)\n",
    "            df_filled.update(df_updated)\n",
    "            \n",
    "        else:\n",
    "            df_updated=df_per_country.fillna(df_per_country.daily_vaccinations.min())\n",
    "            df_filled.update(df_updated)\n",
    "            \n",
    "        \n",
    "        "
   ]
  },
  {
   "cell_type": "code",
   "execution_count": 376,
   "metadata": {},
   "outputs": [],
   "source": [
    "fillWithMin(country_list)"
   ]
  },
  {
   "cell_type": "code",
   "execution_count": 377,
   "metadata": {},
   "outputs": [
    {
     "data": {
      "text/html": [
       "<div>\n",
       "<style scoped>\n",
       "    .dataframe tbody tr th:only-of-type {\n",
       "        vertical-align: middle;\n",
       "    }\n",
       "\n",
       "    .dataframe tbody tr th {\n",
       "        vertical-align: top;\n",
       "    }\n",
       "\n",
       "    .dataframe thead th {\n",
       "        text-align: right;\n",
       "    }\n",
       "</style>\n",
       "<table border=\"1\" class=\"dataframe\">\n",
       "  <thead>\n",
       "    <tr style=\"text-align: right;\">\n",
       "      <th></th>\n",
       "      <th>country</th>\n",
       "      <th>date</th>\n",
       "      <th>daily_vaccinations</th>\n",
       "      <th>vaccines</th>\n",
       "    </tr>\n",
       "  </thead>\n",
       "  <tbody>\n",
       "    <tr>\n",
       "      <th>0</th>\n",
       "      <td>Argentina</td>\n",
       "      <td>12/29/2020</td>\n",
       "      <td>6483.0</td>\n",
       "      <td>Sputnik V</td>\n",
       "    </tr>\n",
       "    <tr>\n",
       "      <th>1</th>\n",
       "      <td>Argentina</td>\n",
       "      <td>12/30/2020</td>\n",
       "      <td>15656.0</td>\n",
       "      <td>Sputnik V</td>\n",
       "    </tr>\n",
       "    <tr>\n",
       "      <th>2</th>\n",
       "      <td>Argentina</td>\n",
       "      <td>12/31/2020</td>\n",
       "      <td>15656.0</td>\n",
       "      <td>Sputnik V</td>\n",
       "    </tr>\n",
       "    <tr>\n",
       "      <th>3</th>\n",
       "      <td>Argentina</td>\n",
       "      <td>1/1/2021</td>\n",
       "      <td>11070.0</td>\n",
       "      <td>Sputnik V</td>\n",
       "    </tr>\n",
       "    <tr>\n",
       "      <th>4</th>\n",
       "      <td>Argentina</td>\n",
       "      <td>1/2/2021</td>\n",
       "      <td>8776.0</td>\n",
       "      <td>Sputnik V</td>\n",
       "    </tr>\n",
       "    <tr>\n",
       "      <th>...</th>\n",
       "      <td>...</td>\n",
       "      <td>...</td>\n",
       "      <td>...</td>\n",
       "      <td>...</td>\n",
       "    </tr>\n",
       "    <tr>\n",
       "      <th>1497</th>\n",
       "      <td>Wales</td>\n",
       "      <td>1/20/2021</td>\n",
       "      <td>11105.0</td>\n",
       "      <td>Oxford/AstraZeneca, Pfizer/BioNTech</td>\n",
       "    </tr>\n",
       "    <tr>\n",
       "      <th>1498</th>\n",
       "      <td>Wales</td>\n",
       "      <td>1/21/2021</td>\n",
       "      <td>12318.0</td>\n",
       "      <td>Oxford/AstraZeneca, Pfizer/BioNTech</td>\n",
       "    </tr>\n",
       "    <tr>\n",
       "      <th>1499</th>\n",
       "      <td>Wales</td>\n",
       "      <td>1/22/2021</td>\n",
       "      <td>15148.0</td>\n",
       "      <td>Oxford/AstraZeneca, Pfizer/BioNTech</td>\n",
       "    </tr>\n",
       "    <tr>\n",
       "      <th>1500</th>\n",
       "      <td>Wales</td>\n",
       "      <td>1/23/2021</td>\n",
       "      <td>17371.0</td>\n",
       "      <td>Oxford/AstraZeneca, Pfizer/BioNTech</td>\n",
       "    </tr>\n",
       "    <tr>\n",
       "      <th>1501</th>\n",
       "      <td>Wales</td>\n",
       "      <td>1/24/2021</td>\n",
       "      <td>17063.0</td>\n",
       "      <td>Oxford/AstraZeneca, Pfizer/BioNTech</td>\n",
       "    </tr>\n",
       "  </tbody>\n",
       "</table>\n",
       "<p>1502 rows × 4 columns</p>\n",
       "</div>"
      ],
      "text/plain": [
       "        country        date  daily_vaccinations  \\\n",
       "0     Argentina  12/29/2020              6483.0   \n",
       "1     Argentina  12/30/2020             15656.0   \n",
       "2     Argentina  12/31/2020             15656.0   \n",
       "3     Argentina    1/1/2021             11070.0   \n",
       "4     Argentina    1/2/2021              8776.0   \n",
       "...         ...         ...                 ...   \n",
       "1497      Wales   1/20/2021             11105.0   \n",
       "1498      Wales   1/21/2021             12318.0   \n",
       "1499      Wales   1/22/2021             15148.0   \n",
       "1500      Wales   1/23/2021             17371.0   \n",
       "1501      Wales   1/24/2021             17063.0   \n",
       "\n",
       "                                 vaccines  \n",
       "0                               Sputnik V  \n",
       "1                               Sputnik V  \n",
       "2                               Sputnik V  \n",
       "3                               Sputnik V  \n",
       "4                               Sputnik V  \n",
       "...                                   ...  \n",
       "1497  Oxford/AstraZeneca, Pfizer/BioNTech  \n",
       "1498  Oxford/AstraZeneca, Pfizer/BioNTech  \n",
       "1499  Oxford/AstraZeneca, Pfizer/BioNTech  \n",
       "1500  Oxford/AstraZeneca, Pfizer/BioNTech  \n",
       "1501  Oxford/AstraZeneca, Pfizer/BioNTech  \n",
       "\n",
       "[1502 rows x 4 columns]"
      ]
     },
     "execution_count": 377,
     "metadata": {},
     "output_type": "execute_result"
    }
   ],
   "source": [
    "df_filled"
   ]
  },
  {
   "cell_type": "code",
   "execution_count": 378,
   "metadata": {},
   "outputs": [
    {
     "data": {
      "text/html": [
       "<div>\n",
       "<style scoped>\n",
       "    .dataframe tbody tr th:only-of-type {\n",
       "        vertical-align: middle;\n",
       "    }\n",
       "\n",
       "    .dataframe tbody tr th {\n",
       "        vertical-align: top;\n",
       "    }\n",
       "\n",
       "    .dataframe thead th {\n",
       "        text-align: right;\n",
       "    }\n",
       "</style>\n",
       "<table border=\"1\" class=\"dataframe\">\n",
       "  <thead>\n",
       "    <tr style=\"text-align: right;\">\n",
       "      <th></th>\n",
       "      <th>country</th>\n",
       "      <th>date</th>\n",
       "      <th>daily_vaccinations</th>\n",
       "      <th>vaccines</th>\n",
       "    </tr>\n",
       "  </thead>\n",
       "  <tbody>\n",
       "    <tr>\n",
       "      <th>750</th>\n",
       "      <td>Kuwait</td>\n",
       "      <td>12/28/2020</td>\n",
       "      <td>0.0</td>\n",
       "      <td>Pfizer/BioNTech</td>\n",
       "    </tr>\n",
       "  </tbody>\n",
       "</table>\n",
       "</div>"
      ],
      "text/plain": [
       "    country        date  daily_vaccinations         vaccines\n",
       "750  Kuwait  12/28/2020                 0.0  Pfizer/BioNTech"
      ]
     },
     "execution_count": 378,
     "metadata": {},
     "output_type": "execute_result"
    }
   ],
   "source": [
    "df_filled[df_filled[\"country\"]==\"Kuwait\"] \n",
    "# i should check if Kuwait's daily vaccinations numbers replaced with 0 :)"
   ]
  },
  {
   "cell_type": "markdown",
   "metadata": {},
   "source": [
    "# Q5"
   ]
  },
  {
   "cell_type": "code",
   "execution_count": 403,
   "metadata": {},
   "outputs": [],
   "source": [
    "medians_dict={}"
   ]
  },
  {
   "cell_type": "code",
   "execution_count": 408,
   "metadata": {},
   "outputs": [],
   "source": [
    "def mediansOfCountries(country_list):\n",
    "    for country in country_list:\n",
    "        df_per_country=df_filled[df_filled[\"country\"]==country]\n",
    "        medians_dict[country]=df_per_country[\"daily_vaccinations\"].median()\n",
    "\n",
    "            \n",
    "        \n",
    "        "
   ]
  },
  {
   "cell_type": "code",
   "execution_count": 409,
   "metadata": {},
   "outputs": [
    {
     "name": "stdout",
     "output_type": "stream",
     "text": [
      "{}\n"
     ]
    }
   ],
   "source": [
    "print(medians_dict)"
   ]
  },
  {
   "cell_type": "code",
   "execution_count": 410,
   "metadata": {},
   "outputs": [],
   "source": [
    "mediansOfCountries(country_list)"
   ]
  },
  {
   "cell_type": "code",
   "execution_count": 411,
   "metadata": {},
   "outputs": [
    {
     "name": "stdout",
     "output_type": "stream",
     "text": [
      "{'Argentina': 11645.0, 'Austria': 7850.0, 'Bahrain': 3662.0, 'Belgium': 3606.0, 'Brazil': 17220.0, 'Bulgaria': 1010.0, 'Canada': 11044.0, 'Chile': 1291.0, 'China': 276786.0, 'Costa Rica': 675.5, 'Croatia': 2485.0, 'Cyprus': 708.0, 'Czechia': 5378.0, 'Denmark': 7095.5, 'Ecuador': 108.0, 'England': 107310.5, 'Estonia': 1043.0, 'Finland': 2035.5, 'France': 41496.0, 'Germany': 51184.0, 'Gibraltar': 713.0, 'Greece': 5290.0, 'Hungary': 5464.5, 'Iceland': 63.0, 'India': 173922.0, 'Indonesia': 13200.0, 'Ireland': 6528.0, 'Isle of Man': 138.0, 'Israel': 92587.0, 'Italy': 44475.5, 'Kuwait': 0.0, 'Latvia': 592.0, 'Lithuania': 1933.5, 'Luxembourg': 88.0, 'Malta': 407.5, 'Mexico': 5488.0, 'Netherlands': 6762.0, 'Northern Ireland': 2135.0, 'Norway': 2958.0, 'Oman': 1192.0, 'Panama': 1324.0, 'Poland': 22702.5, 'Portugal': 5944.0, 'Romania': 13030.0, 'Russia': 23563.0, 'Saudi Arabia': 16807.5, 'Scotland': 5821.0, 'Serbia': 2920.0, 'Seychelles': 1000.0, 'Singapore': 4907.0, 'Slovakia': 5357.0, 'Slovenia': 2374.0, 'Spain': 55238.0, 'Sweden': 5382.5, 'Switzerland': 3000.0, 'Turkey': 150356.0, 'United Arab Emirates': 86430.0, 'United Kingdom': 120409.0, 'United States': 378253.0, 'Wales': 2198.0}\n"
     ]
    }
   ],
   "source": [
    "print(medians_dict)"
   ]
  },
  {
   "cell_type": "code",
   "execution_count": 412,
   "metadata": {},
   "outputs": [
    {
     "name": "stdout",
     "output_type": "stream",
     "text": [
      "United States 378253.0\n",
      "China 276786.0\n",
      "India 173922.0\n",
      "Turkey 150356.0\n",
      "United Kingdom 120409.0\n",
      "England 107310.5\n",
      "Israel 92587.0\n",
      "United Arab Emirates 86430.0\n",
      "Spain 55238.0\n",
      "Germany 51184.0\n",
      "Italy 44475.5\n",
      "France 41496.0\n",
      "Russia 23563.0\n",
      "Poland 22702.5\n",
      "Brazil 17220.0\n",
      "Saudi Arabia 16807.5\n",
      "Indonesia 13200.0\n",
      "Romania 13030.0\n",
      "Argentina 11645.0\n",
      "Canada 11044.0\n",
      "Austria 7850.0\n",
      "Denmark 7095.5\n",
      "Netherlands 6762.0\n",
      "Ireland 6528.0\n",
      "Portugal 5944.0\n",
      "Scotland 5821.0\n",
      "Mexico 5488.0\n",
      "Hungary 5464.5\n",
      "Sweden 5382.5\n",
      "Czechia 5378.0\n",
      "Slovakia 5357.0\n",
      "Greece 5290.0\n",
      "Singapore 4907.0\n",
      "Bahrain 3662.0\n",
      "Belgium 3606.0\n",
      "Switzerland 3000.0\n",
      "Norway 2958.0\n",
      "Serbia 2920.0\n",
      "Croatia 2485.0\n",
      "Slovenia 2374.0\n",
      "Wales 2198.0\n",
      "Northern Ireland 2135.0\n",
      "Finland 2035.5\n",
      "Lithuania 1933.5\n",
      "Panama 1324.0\n",
      "Chile 1291.0\n",
      "Oman 1192.0\n",
      "Estonia 1043.0\n",
      "Bulgaria 1010.0\n",
      "Seychelles 1000.0\n",
      "Gibraltar 713.0\n",
      "Cyprus 708.0\n",
      "Costa Rica 675.5\n",
      "Latvia 592.0\n",
      "Malta 407.5\n",
      "Isle of Man 138.0\n",
      "Ecuador 108.0\n",
      "Luxembourg 88.0\n",
      "Iceland 63.0\n",
      "Kuwait 0.0\n"
     ]
    }
   ],
   "source": [
    "sorted_medians=sorted(medians_dict.items(), key=lambda items: items[1], reverse=True)\n",
    "for i in sorted_medians:\n",
    "    print(i[0], i[1]) "
   ]
  },
  {
   "cell_type": "code",
   "execution_count": 414,
   "metadata": {},
   "outputs": [],
   "source": [
    "c = Counter(sorted_medians)"
   ]
  },
  {
   "cell_type": "code",
   "execution_count": 415,
   "metadata": {},
   "outputs": [],
   "source": [
    "top_3= c.most_common(3)"
   ]
  },
  {
   "cell_type": "code",
   "execution_count": 466,
   "metadata": {},
   "outputs": [
    {
     "name": "stdout",
     "output_type": "stream",
     "text": [
      "TOP 3  COUNTRIES BY MEDIANS OF DAILY VACCINATIONS \n",
      "\n",
      "  United States  : 378253.0\n",
      "  China  : 276786.0\n",
      "  India  : 173922.0\n"
     ]
    }
   ],
   "source": [
    "print(\"TOP 3  COUNTRIES BY MEDIANS OF DAILY VACCINATIONS \\n\")\n",
    "for i in top_3:\n",
    "    print(\" \",i[0][0],\" :\", i[0][1]) "
   ]
  },
  {
   "cell_type": "markdown",
   "metadata": {},
   "source": [
    "# Q6"
   ]
  },
  {
   "cell_type": "code",
   "execution_count": 427,
   "metadata": {},
   "outputs": [
    {
     "name": "stdout",
     "output_type": "stream",
     "text": [
      "<class 'pandas.core.frame.DataFrame'>\n",
      "RangeIndex: 1502 entries, 0 to 1501\n",
      "Data columns (total 4 columns):\n",
      " #   Column              Non-Null Count  Dtype  \n",
      "---  ------              --------------  -----  \n",
      " 0   country             1502 non-null   object \n",
      " 1   date                1502 non-null   object \n",
      " 2   daily_vaccinations  1502 non-null   float64\n",
      " 3   vaccines            1502 non-null   object \n",
      "dtypes: float64(1), object(3)\n",
      "memory usage: 47.1+ KB\n"
     ]
    }
   ],
   "source": [
    "df_filled.info() # as I see here date is object type."
   ]
  },
  {
   "cell_type": "code",
   "execution_count": 428,
   "metadata": {},
   "outputs": [
    {
     "data": {
      "text/plain": [
       "0       12/29/2020\n",
       "1       12/30/2020\n",
       "2       12/31/2020\n",
       "3         1/1/2021\n",
       "4         1/2/2021\n",
       "           ...    \n",
       "1497     1/20/2021\n",
       "1498     1/21/2021\n",
       "1499     1/22/2021\n",
       "1500     1/23/2021\n",
       "1501     1/24/2021\n",
       "Name: date, Length: 1502, dtype: object"
      ]
     },
     "execution_count": 428,
     "metadata": {},
     "output_type": "execute_result"
    }
   ],
   "source": [
    "df_filled[\"date\"]"
   ]
  },
  {
   "cell_type": "code",
   "execution_count": 463,
   "metadata": {},
   "outputs": [],
   "source": [
    "df_date= df_filled[df_filled[\"date\"]==\"1/6/2021\"]"
   ]
  },
  {
   "cell_type": "code",
   "execution_count": 464,
   "metadata": {},
   "outputs": [
    {
     "data": {
      "text/plain": [
       "1485255.0"
      ]
     },
     "execution_count": 464,
     "metadata": {},
     "output_type": "execute_result"
    }
   ],
   "source": [
    "df_date[\"daily_vaccinations\"].sum()"
   ]
  },
  {
   "cell_type": "code",
   "execution_count": null,
   "metadata": {},
   "outputs": [],
   "source": []
  },
  {
   "cell_type": "code",
   "execution_count": null,
   "metadata": {},
   "outputs": [],
   "source": []
  }
 ],
 "metadata": {
  "kernelspec": {
   "display_name": "Python 3",
   "language": "python",
   "name": "python3"
  },
  "language_info": {
   "codemirror_mode": {
    "name": "ipython",
    "version": 3
   },
   "file_extension": ".py",
   "mimetype": "text/x-python",
   "name": "python",
   "nbconvert_exporter": "python",
   "pygments_lexer": "ipython3",
   "version": "3.8.3"
  }
 },
 "nbformat": 4,
 "nbformat_minor": 4
}
